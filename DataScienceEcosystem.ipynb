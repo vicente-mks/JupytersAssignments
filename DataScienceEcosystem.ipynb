{
 "cells": [
  {
   "cell_type": "markdown",
   "id": "2bbb807a-20a5-4e18-a063-de724e6010e1",
   "metadata": {},
   "source": [
    "# Data Science Tools and Ecosystem"
   ]
  },
  {
   "cell_type": "markdown",
   "id": "4b2f6e66-5849-40ca-89bf-eb62598f98d3",
   "metadata": {},
   "source": [
    "In this notebook, Data Science Tools and Ecosystem are summarized."
   ]
  },
  {
   "cell_type": "markdown",
   "id": "4925b6b5-940d-4037-a0be-11aeffdf7e20",
   "metadata": {},
   "source": [
    "**Objectives:**\n",
    "* List of popular languages for Data Scientists\n",
    "* List of commonly used libraries used by Data Scietists\n",
    "* List of Data Science Tools\n",
    "* How to evaluate arithmetic expressions"
   ]
  },
  {
   "cell_type": "markdown",
   "id": "0ace6bc6-eb2a-4719-a730-941a70b73f5d",
   "metadata": {},
   "source": [
    "Some of the popular languages that Data Scientists use are:\n",
    "1. Python\n",
    "2. R\n",
    "3. Scala\n",
    "4. Java"
   ]
  },
  {
   "cell_type": "markdown",
   "id": "e90bb1c9-d628-4eb8-80f5-c003923661c1",
   "metadata": {},
   "source": [
    "Some of the commonly used libraries used by Data Scientists include:\n",
    "1. Pandas\n",
    "2. NumPy\n",
    "3. SciPy\n",
    "4. Matplotlib"
   ]
  },
  {
   "cell_type": "markdown",
   "id": "bcae96dd-3f77-4fc8-8d3b-4e134d22b1cb",
   "metadata": {},
   "source": [
    "| Data Science Tools |\n",
    "| ------------------ |\n",
    "| Virtual Studio Code |\n",
    "| GitLab |\n",
    "| Apache NetBeans |"
   ]
  },
  {
   "cell_type": "markdown",
   "id": "35d045e8-254d-437d-b669-5b0db365687f",
   "metadata": {},
   "source": [
    "### Below are a few examples of evaluating arithmetic expressions in Python"
   ]
  },
  {
   "cell_type": "code",
   "execution_count": 2,
   "id": "0ab4c204-c10a-4695-9ba1-6726eba8768f",
   "metadata": {},
   "outputs": [
    {
     "data": {
      "text/plain": [
       "17"
      ]
     },
     "execution_count": 2,
     "metadata": {},
     "output_type": "execute_result"
    }
   ],
   "source": [
    "(3*4)+5\n",
    "#This a simple arithmetic expression to mutiply then add integers."
   ]
  },
  {
   "cell_type": "code",
   "execution_count": 4,
   "id": "a6663ec2-71bd-45a2-a03e-5b6ec56dcd9b",
   "metadata": {},
   "outputs": [
    {
     "data": {
      "text/plain": [
       "3.3333333333333335"
      ]
     },
     "execution_count": 4,
     "metadata": {},
     "output_type": "execute_result"
    }
   ],
   "source": [
    "200/60\n",
    "# This will convert 200 minutes to hours by diving by 60:"
   ]
  },
  {
   "cell_type": "markdown",
   "id": "236da53d-8c02-4619-93a2-e532dfeb3d8d",
   "metadata": {},
   "source": [
    "## Author\n",
    "Vicente Zambrano Figueroa"
   ]
  },
  {
   "cell_type": "code",
   "execution_count": null,
   "id": "16dd51ea-3a4c-4232-a725-7068d4d2996d",
   "metadata": {},
   "outputs": [],
   "source": []
  }
 ],
 "metadata": {
  "kernelspec": {
   "display_name": "Python 3 (ipykernel)",
   "language": "python",
   "name": "python3"
  },
  "language_info": {
   "codemirror_mode": {
    "name": "ipython",
    "version": 3
   },
   "file_extension": ".py",
   "mimetype": "text/x-python",
   "name": "python",
   "nbconvert_exporter": "python",
   "pygments_lexer": "ipython3",
   "version": "3.12.4"
  }
 },
 "nbformat": 4,
 "nbformat_minor": 5
}
